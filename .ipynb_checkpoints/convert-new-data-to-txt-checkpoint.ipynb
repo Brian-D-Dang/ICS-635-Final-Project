{
 "cells": [
  {
   "cell_type": "code",
   "execution_count": 1,
   "id": "ee245b62",
   "metadata": {},
   "outputs": [],
   "source": [
    "import pandas as pd\n",
    "import os.path\n",
    "import os"
   ]
  },
  {
   "cell_type": "code",
   "execution_count": 5,
   "id": "a5d7fde5",
   "metadata": {},
   "outputs": [],
   "source": [
    "deepfake_text = pd.read_csv('data/deepfake-text-detect/train.csv')"
   ]
  },
  {
   "cell_type": "code",
   "execution_count": 6,
   "id": "0dea272e",
   "metadata": {},
   "outputs": [],
   "source": [
    "human_text = deepfake_text[deepfake_text['label'] == 1][0:10000]\n",
    "chatgpt_text = deepfake_text[deepfake_text['label'] == 0][0:10000]"
   ]
  },
  {
   "cell_type": "code",
   "execution_count": 7,
   "id": "c3485441",
   "metadata": {},
   "outputs": [],
   "source": [
    "def csv_to_text_files(dataframe, output_folder, start_index=1):\n",
    "    os.makedirs(output_folder, exist_ok=True)\n",
    "    essays = dataframe['text']\n",
    "    id_number = start_index - 1 \n",
    "    for essay in essays:\n",
    "        id_number += 1\n",
    "        file_path = os.path.join(output_folder, f'{id_number}.txt')\n",
    "        with open(file_path, 'w', encoding='utf-8') as file:\n",
    "            file.write(essay)\n"
   ]
  },
  {
   "cell_type": "code",
   "execution_count": 8,
   "id": "9afa48ed",
   "metadata": {},
   "outputs": [],
   "source": [
    "folder_paths = [\n",
    "        ('data/deepfake-text-detect/human', 1),\n",
    "        ('data/deepfake-text-detect/chatgpt', 0)\n",
    "    ]"
   ]
  },
  {
   "cell_type": "code",
   "execution_count": 9,
   "id": "10070cdb",
   "metadata": {},
   "outputs": [],
   "source": [
    "csv_to_text_files(chatgpt_text, 'data/deepfake-text-detect/chatgpt')\n",
    "chatgpt_path = 'data/deepfake-text-detect/chatgpt'\n",
    "max_index = max([int(filename.split('.')[0]) for filename in os.listdir(chatgpt_path)]) if os.listdir(chatgpt_path) else 0"
   ]
  },
  {
   "cell_type": "code",
   "execution_count": 10,
   "id": "a1b60989",
   "metadata": {},
   "outputs": [],
   "source": [
    "csv_to_text_files(human_text, 'data/deepfake-text-detect/human', start_index=max_index + 1)"
   ]
  }
 ],
 "metadata": {
  "kernelspec": {
   "display_name": "Python 3 (ipykernel)",
   "language": "python",
   "name": "python3"
  },
  "language_info": {
   "codemirror_mode": {
    "name": "ipython",
    "version": 3
   },
   "file_extension": ".py",
   "mimetype": "text/x-python",
   "name": "python",
   "nbconvert_exporter": "python",
   "pygments_lexer": "ipython3",
   "version": "3.9.19"
  }
 },
 "nbformat": 4,
 "nbformat_minor": 5
}
